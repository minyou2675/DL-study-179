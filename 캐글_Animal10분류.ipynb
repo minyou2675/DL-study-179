{
  "nbformat": 4,
  "nbformat_minor": 0,
  "metadata": {
    "colab": {
      "name": "캐글_Animal10분류.ipynb",
      "provenance": [],
      "authorship_tag": "ABX9TyOOa9+OkEt9j72vINlMLMvG",
      "include_colab_link": true
    },
    "kernelspec": {
      "name": "python3",
      "display_name": "Python 3"
    },
    "language_info": {
      "name": "python"
    }
  },
  "cells": [
    {
      "cell_type": "markdown",
      "metadata": {
        "id": "view-in-github",
        "colab_type": "text"
      },
      "source": [
        "<a href=\"https://colab.research.google.com/github/minyou2675/DL-study-179/blob/main/%EC%BA%90%EA%B8%80_Animal10%EB%B6%84%EB%A5%98.ipynb\" target=\"_parent\"><img src=\"https://colab.research.google.com/assets/colab-badge.svg\" alt=\"Open In Colab\"/></a>"
      ]
    },
    {
      "cell_type": "code",
      "execution_count": null,
      "metadata": {
        "id": "lUSoscmJ8z5c"
      },
      "outputs": [],
      "source": [
        "import sys\n",
        "from google.colab import drive\n",
        "import os\n",
        "import pandas as pd\n",
        "import numpy as np\n",
        "import cv2\n",
        "import torch\n",
        "from torch import nn\n",
        "import torch.utils.data as data \n",
        "from torch.utils.data import DataLoader\n",
        "from torchvision import datasets #sample label을 저장 \n",
        "from torchvision.datasets import imageFolder\n",
        "from torchvision.transforms import ToTensor \n",
        "from sklearn.model_selection import train_test_split\n",
        "import splitfolders\n",
        "\n",
        "splitfolders.ratio('C:\\Users\\TDA\\Desktop\\archive\\raw-img',output=\"C: \\Users\\TDA\\Desktop\\archive\", seed = 77, ratio =(0.8,0.1,0.1))\n",
        "\n",
        "class_names = [ ]\n",
        "num_class = len[class_names]\n",
        "\n",
        "\n",
        "\n",
        "\n"
      ]
    },
    {
      "cell_type": "code",
      "source": [
        "def make_file_list(): #train 데이터 세팅\n",
        "  train_img_list = list()\n",
        "\n"
      ],
      "metadata": {
        "id": "CYozNkZeJ8a4"
      },
      "execution_count": null,
      "outputs": []
    },
    {
      "cell_type": "code",
      "source": [
        "class ImageTransform(): #이미지 전처리 \n",
        "\n",
        "  def __init__(self, mean, std):\n",
        "    self.data_transfrom = transforms.Compose([\n",
        "          transforms.ToTensor(),\n",
        "          transfroms.Normalize(mean,std)\n",
        "    ])\n",
        "\n",
        "  def __call__(self, img):\n",
        "    return self.data_transform(img)"
      ],
      "metadata": {
        "id": "ZbOwJIHzI9kY"
      },
      "execution_count": null,
      "outputs": []
    },
    {
      "cell_type": "code",
      "source": [
        "class Img_Dataset(data.Dataset): #이미지 파일 정보\n",
        "  def __init__(self, file_list, transform):\n",
        "    self.file_list = file_list\n",
        "    self.transform = transform\n",
        "\n",
        "  def __len__(self):\n",
        "    return len(self.file_list)\n",
        "\n",
        "    def __getitem__(self, index):\n",
        "      img_path = self.file_list[index]\n",
        "      img = Image.open(img_path)\n",
        "      img_transformed = self.transform(img)\n",
        "\n",
        "      return img_trnasformed "
      ],
      "metadata": {
        "id": "YZFWFBLAI9wm"
      },
      "execution_count": null,
      "outputs": []
    },
    {
      "cell_type": "code",
      "source": [
        "def train_model(model, criterion, optimizer, shceduler, num_epochs = 25):\n",
        "  since = time.time()\n",
        "\n",
        "  best_mdel_wts = copy.deepcopy(model.state.dict())\n",
        "  best_acc = 0.0\n",
        "\n",
        "  for epoch in range(num_epochs):\n",
        "    print(f'Epoch{epoch}/{num_epochs-1}')\n",
        "    print('=' * 10)\n",
        "  \n",
        "  for phase in ['train','val']:\n",
        "    if phase = 'train'\n",
        "        model.train()\n",
        "        "
      ],
      "metadata": {
        "id": "z-S0oANnoo03"
      },
      "execution_count": null,
      "outputs": []
    },
    {
      "cell_type": "code",
      "source": [
        "training_imgs = ImageFolder(\"./\",transform = transforms.Compose([transforms,RandomCrop(96),transforms,ToTensor()]))\n",
        "\n",
        "train_loader = data.DataLoader(train_imgs,batch_size = 64, shuffle = True)\n",
        "test_loader = data.DataLoader(test_imgs, batch_size = 64, shuffle = True)\n",
        "\n"
      ],
      "metadata": {
        "id": "jeVQomV-g-UG"
      },
      "execution_count": null,
      "outputs": []
    }
  ]
}