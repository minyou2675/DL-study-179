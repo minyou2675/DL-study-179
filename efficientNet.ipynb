{
  "nbformat": 4,
  "nbformat_minor": 0,
  "metadata": {
    "colab": {
      "name": "efficientNet.ipynb",
      "provenance": [],
      "authorship_tag": "ABX9TyPAH6ihjX+PZICFbWTiF7/0",
      "include_colab_link": true
    },
    "kernelspec": {
      "name": "python3",
      "display_name": "Python 3"
    },
    "language_info": {
      "name": "python"
    }
  },
  "cells": [
    {
      "cell_type": "markdown",
      "metadata": {
        "id": "view-in-github",
        "colab_type": "text"
      },
      "source": [
        "<a href=\"https://colab.research.google.com/github/minyou2675/DL-study-179/blob/main/efficientNet.ipynb\" target=\"_parent\"><img src=\"https://colab.research.google.com/assets/colab-badge.svg\" alt=\"Open In Colab\"/></a>"
      ]
    },
    {
      "cell_type": "code",
      "execution_count": null,
      "metadata": {
        "id": "YBxxVSgolBQX"
      },
      "outputs": [],
      "source": [
        "import torch\n",
        "import torch.nn as nn\n",
        "import torch.nn.functional as F\n",
        "from torchsummary import summary\n",
        "from torch import optim\n",
        "\n",
        "# dataset and transformation\n",
        "from torchvision import datasets\n",
        "import torchvision.transforms as transforms\n",
        "from torch.utils.data import DataLoader\n",
        "from torchvision import models\n",
        "import os\n",
        "\n",
        "# display images\n",
        "from torchvision import utils\n",
        "import matplotlib.pyplot as plt\n",
        "%matplotlib inline\n",
        "\n",
        "# utils\n",
        "import numpy as np\n",
        "from torchsummary import summary\n",
        "import time\n",
        "import copy"
      ]
    },
    {
      "cell_type": "code",
      "source": [
        "train_ds = datasets\n",
        "val_ds = d"
      ],
      "metadata": {
        "id": "QNLJDF2omNKO"
      },
      "execution_count": null,
      "outputs": []
    },
    {
      "cell_type": "code",
      "source": [
        "\n",
        "\n",
        "transformation = transforms.compose([tranforms.Resize(224,224).transforms.ToTensor()])\n",
        "\n",
        "train_ds.transform = transformation\n",
        "test_ds.transform = transformation\n",
        "\n",
        "train_dl = DataLoader(train_transform, batch_size=64, shuffle = True)\n",
        "test_dl = DataLoader(test_transforms, batch_size=64, shuffle = True )\n"
      ],
      "metadata": {
        "id": "Vv1djb0alRGi"
      },
      "execution_count": null,
      "outputs": []
    },
    {
      "cell_type": "code",
      "source": [
        "import torch\n",
        "import torch.nn as nn\n",
        "import torch.nn.functional as F\n",
        "from torchsummary import summary\n",
        "\n",
        "class EfficientNet(nn.Module):\n",
        "    def __init__(self) -> None:\n",
        "        super().__init__()\n",
        "        channels = [32, 16, 24, 32, 64, 96, 160, 320, 1280]\n",
        "        strides = [2, 1, 2, 2, 2, 1, 2, 1, 1]\n",
        "        repeats = [1, 1, 2, 3, 4, 3, 3, 1, 1, 1]\n",
        "        kernel_size = [3, 3, 5, 3, 5, 5, 3]\n",
        "\n",
        "        # TODO : Implement Network\n",
        "        ## Sample Convolution, delete this\n",
        "        self.conv = nn.Conv2d(3, 10, kernel_size = 3, stride = 2, padding = 1)\n",
        "\n",
        "    \n",
        "    def forward(self, x):\n",
        "        # TODO : Implement Network\n",
        "        ## Sample Convolution, delete this\n",
        "        x = self.conv(x)\n",
        "        return x\n",
        "    \n",
        "\n",
        "\n",
        "\n",
        "\n",
        "if __name__ == \"__main__\":\n",
        "    device = torch.device('cuda') if torch.cuda.is_available() else torch.device('cpu')    \n",
        "    \n",
        "    batch_size = 4\n",
        "    input = torch.randn((batch_size, 3, 224, 224))\n",
        "    model = EfficientNet()\n",
        "    output = model(input)\n",
        "    \n",
        "    print(output.shape)\n",
        "    \n",
        "    model.to(device)\n",
        "    summary(model, (3, 224, 224))"
      ],
      "metadata": {
        "colab": {
          "base_uri": "https://localhost:8080/"
        },
        "id": "Mpw8mL6J_Fny",
        "outputId": "3882c534-662f-447d-b727-5565b0d19c7a"
      },
      "execution_count": 1,
      "outputs": [
        {
          "output_type": "stream",
          "name": "stdout",
          "text": [
            "torch.Size([4, 10, 112, 112])\n",
            "----------------------------------------------------------------\n",
            "        Layer (type)               Output Shape         Param #\n",
            "================================================================\n",
            "            Conv2d-1         [-1, 10, 112, 112]             280\n",
            "================================================================\n",
            "Total params: 280\n",
            "Trainable params: 280\n",
            "Non-trainable params: 0\n",
            "----------------------------------------------------------------\n",
            "Input size (MB): 0.57\n",
            "Forward/backward pass size (MB): 0.96\n",
            "Params size (MB): 0.00\n",
            "Estimated Total Size (MB): 1.53\n",
            "----------------------------------------------------------------\n"
          ]
        }
      ]
    }
  ]
}